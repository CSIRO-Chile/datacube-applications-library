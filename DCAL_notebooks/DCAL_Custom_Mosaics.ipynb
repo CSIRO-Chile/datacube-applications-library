{
 "cells": [
  {
   "cell_type": "markdown",
   "metadata": {},
   "source": [
    "<a id=\"top\"></a>\n",
    "# Custom Mosaics <img align=\"right\" style=\"padding:10px\" src=\"../images/odc_logo.png\">\n",
    "\n",
    "This notebook can be used to create custom Landsat cloud-filtered mosaics for any time period and location. The mosaics can be output as GeoTIFF products for analysis in external GIS tools. The following mosaics are possible: Median (midpoint of spectral data) and Max-NDVI (maximum vegetation respons). These mosaics are quite common and will be of value to a large number of users. \n",
    "\n",
    "Users should review the \"Cloud Statistics\" notebook for more information about the temporal and spatial sample. An understanding of the underlying data is important for creating a valid mosaic for further analyses. In many cases, cloud contamination will create poor mosaics. With a careful review of the cloud coverage over a given region and time period, it is possible to improve the mosaics and avoid false outputs. \n",
    "\n",
    "What does this Notebook do?\n",
    "\n",
    "* [Setup the Environment](#environment_setup)\n",
    "* [Choose Platforms and Products](#platforms_products)\n",
    "* [Load and Clean Data from the Data Cube](#load_data)\n",
    "* [Create Mosaics and View the Results](#create_mosaic)\n",
    "* [Create GeoTIFF Output Products](#output_products)\n",
    "* [Contributors, Heritage and References](#contributors_heritage)\n",
    "\n",
    "**<a href=\"https://www.youtube.com/watch?v=xMhlowyP9xU\" target=\"_blank\">Click Here</a>** to watch a 'how to' video explaining the functionlity of this notebook.\n",
    "\n",
    "This notebook uses external functions including both a standard set of DCAL utilities (see folder [DCAL_utils](../DCAL_utils)) and a code behind file containing some specalised functions that make this page work (see file [DCAL_Custom_Mosaics.py](DCAL_Custom_Mosaics.py)).\n",
    "\n",
    "<i><p style=\"color:red\"><b>Red Text:</b> Indicates code blocks where user inputs can be provided.</p></i>"
   ]
  },
  {
   "cell_type": "markdown",
   "metadata": {},
   "source": [
    "<a id=\"environment_setup\"></a>\n",
    "## Environment Setup [&#9652;](#top)\n",
    "* **Surpress Python Warnings:** These warnings include notes about deprecitation of Python modules, etc.\n",
    "* **Import Standard Python Modules:** Import external and standard Python modules including `datacube` which is part of the ODC framework, as well as `xarray` which is a useful external module.\n",
    "* **Import DCAL Utilities:** Import a set of utilities developed by the DCAL team to help automate some of the more routine tasks in the notebooks. These utilities are located in `/DCAL_utils`.\n",
    "* **Initialize Data Cube and Data Cube API**\n",
    "\n",
    "[Back to Top](#top)"
   ]
  },
  {
   "cell_type": "code",
   "execution_count": null,
   "metadata": {},
   "outputs": [],
   "source": [
    "# Supress Python Warnings\n",
    "import warnings\n",
    "warnings.filterwarnings('ignore')"
   ]
  },
  {
   "cell_type": "code",
   "execution_count": null,
   "metadata": {},
   "outputs": [],
   "source": [
    "# Import Standard Python Modules\n",
    "import datacube\n",
    "import sys\n",
    "import xarray as xr  \n",
    "import numpy as np\n",
    "import matplotlib.pyplot as plt"
   ]
  },
  {
   "cell_type": "code",
   "execution_count": null,
   "metadata": {},
   "outputs": [],
   "source": [
    "# Import notebook code behind (as cb) contaning function definitions specific to this notebook\n",
    "import DCAL_Custom_Mosaics as cb\n",
    "\n",
    "# Import DCAL utilities containing function definitions used generally across DCAL\n",
    "# Add DCAL_utils to the sys.path\n",
    "sys.path.append('../DCAL_utils')\n",
    "\n",
    "# Import Data Cube API.\n",
    "import data_access_api as dc_api\n",
    "\n",
    "# Import display map functions\n",
    "from dc_display_map import display_map\n",
    "\n",
    "# Import clean mask function.\n",
    "from clean_mask import landsat_qa_clean_mask\n",
    "\n",
    "# Import mosaic functions.\n",
    "from dc_mosaic import create_median_mosaic, create_max_ndvi_mosaic\n",
    "\n",
    "# Import RGB functions.\n",
    "from dc_rgb import rgb\n",
    "\n",
    "# Import import export functions.\n",
    "from import_export import export_slice_to_geotiff"
   ]
  },
  {
   "cell_type": "code",
   "execution_count": null,
   "metadata": {},
   "outputs": [],
   "source": [
    "# Initialize Data Cube API (dc_api) and Data Cube (dc)\n",
    "api = dc_api.DataAccessApi(config = '/home/localuser/.datacube.conf')\n",
    "dc = api.dc"
   ]
  },
  {
   "cell_type": "markdown",
   "metadata": {},
   "source": [
    "<a id=\"platforms_products\"></a>\n",
    "## <span id=\"plat_prod\">Choose Platforms and Products [&#9652;](#top)</span>\n",
    "* **Select Product:** Specify the product you desire to use. Note you can see the complete list of products in this Cube in the introductory notebook (<a href=\"../Open%20Data%20Cube%20Application%20Library%20Notebooks.ipynb#products\" target=\"_blank\">click here</a>).\n",
    "* **View Dataset Spatial and Temporal Extents:** Queries the Cube and displays the min/max latitude and longitude, and the start and end date and time.\n",
    "* **Select Spatial and Temporal Extents:** Select the area of interest (AOI) and time range based on extents available.\n",
    "\n",
    "[Back to Top](#top)"
   ]
  },
  {
   "cell_type": "code",
   "execution_count": null,
   "metadata": {},
   "outputs": [],
   "source": [
    "# Select a Product and Platform\n",
    "# Examples: ghana, kenya, tanzania, sierra_leone, senegal\n",
    "\n",
    "# product = \"ls7_ledaps_kenya\"\n",
    "# platform = \"LANDSAT_7\"\n",
    "\n",
    "# product = \"ls8_lasrc_kenya\"\n",
    "# platform = \"LANDSAT_8\"\n",
    "\n",
    "# product = \"ls7_ledaps_ghana\"\n",
    "# platform = \"LANDSAT_7\"\n",
    "\n",
    "product = \"ls8_lasrc_ghana\"\n",
    "platform = \"LANDSAT_8\""
   ]
  },
  {
   "cell_type": "code",
   "execution_count": null,
   "metadata": {},
   "outputs": [],
   "source": [
    "# Print extents of the Data Cube so we know what data is available\n",
    "extents = api.get_full_dataset_extent(platform = platform, product = product)\n",
    "\n",
    "latitude_extents = (min(extents['latitude'].values),max(extents['latitude'].values))\n",
    "longitude_extents = (min(extents['longitude'].values),max(extents['longitude'].values))\n",
    "time_extents = (min(extents['time'].values),max(extents['time'].values))\n",
    "\n",
    "print(latitude_extents)\n",
    "print(longitude_extents)\n",
    "print(time_extents)"
   ]
  },
  {
   "cell_type": "markdown",
   "metadata": {},
   "source": [
    "<p style=\"color:red\";><b>Select Spatial and Temporal Extents:</b> Select the area of interest (AOI) and time range based on extents available.</p>\n",
    "\n",
    "**HINT:** Keep your region small (less than 0.5 deg square) to avoid memory overload issues"
   ]
  },
  {
   "cell_type": "code",
   "execution_count": null,
   "metadata": {},
   "outputs": [],
   "source": [
    "# Select an analysis region (Lat-Lon) within the extents listed above. \n",
    "# Select a time period (Min-Max) within the extents listed above (Year-Month-Day)\n",
    "\n",
    "# Mombasa, Kenya\n",
    "# latitude = (-4.1, -3.9) \n",
    "# longitude = (39.5, 39.7) \n",
    "\n",
    "# Mau Forest - Western Kenya\n",
    "# latitude = (-0.13406, 0.21307)\n",
    "# longitude = (35.28322, 35.56681)\n",
    "\n",
    "# Tano-Offin Forest - Ghana\n",
    "# latitude = (6.5814, 6.8978 ) \n",
    "# longitude = (-2.2955, -1.9395) \n",
    "\n",
    "# Mining Region near Obuasi, Ghana\n",
    "latitude = (6.0985, 6.2675)\n",
    "longitude = (-2.050, -1.8629)\n",
    "\n",
    "# Time Period\n",
    "time_extents = ('2019-01-01', '2019-03-31')"
   ]
  },
  {
   "cell_type": "code",
   "execution_count": null,
   "metadata": {
    "scrolled": false
   },
   "outputs": [],
   "source": [
    "# Render a map of the Area of Interest.\n",
    "display_map(latitude,longitude)"
   ]
  },
  {
   "cell_type": "markdown",
   "metadata": {},
   "source": [
    "<a id=\"load_data\"></a>\n",
    "## Load and Clean Data from the Data Cube [&#9652;](#top)\n",
    "* **Load Data:** Load data based on selections above.\n",
    "* **Display Summary:** Display a summary of dataset.\n",
    "\n",
    "[Back to Top](#top)"
   ]
  },
  {
   "cell_type": "code",
   "execution_count": null,
   "metadata": {},
   "outputs": [],
   "source": [
    "# Load Data into xarray Dataset.\n",
    "landsat_dataset = dc.load(latitude = latitude,\n",
    "                          longitude = longitude,\n",
    "                          platform = platform,\n",
    "                          time = time_extents,\n",
    "                          product = product,\n",
    "                          measurements = ['red', 'green', 'blue', 'nir', 'swir1', 'swir2', 'pixel_qa'])"
   ]
  },
  {
   "cell_type": "code",
   "execution_count": null,
   "metadata": {
    "scrolled": false
   },
   "outputs": [],
   "source": [
    "# Displays the first few values of each data array to check the content\n",
    "# Latitude and Longitude numbers = number of pixels in each dimension\n",
    "# Time = number of time slices in the dataset\n",
    "landsat_dataset"
   ]
  },
  {
   "cell_type": "code",
   "execution_count": null,
   "metadata": {},
   "outputs": [],
   "source": [
    "#Create cloud mask and cleaned dataset.\n",
    "cloud_mask = landsat_qa_clean_mask(landsat_dataset, platform=platform)\n",
    "cleaned_dataset = landsat_dataset.where(cloud_mask)"
   ]
  },
  {
   "cell_type": "markdown",
   "metadata": {},
   "source": [
    "<a id=\"create_mosaic\"></a>\n",
    "## <span id=\"mosaics\">Create Mosaics and View the Results [&#9652;](#top)</span>\n",
    "\n",
    "> **Median Mosaic**  \n",
    ">  Masks clouds from imagery and use the median-valued cloud-free pixels in the time series.\n",
    ">  More specifically, each band (e.g. red) of each pixel is assigned its median across time.\n",
    ">  So this mosaic method generates values that are not in the dataset.\n",
    ">\n",
    "> **Max NDVI Mosaic**  \n",
    ">  Masks clouds from imagery and use the Max NDVI across time for cloud-free pixels in the time series. \n",
    ">  The maximum NDVI will represent the highest amount of green vegetation \n",
    "\n",
    "[Back to Top](#top)"
   ]
  },
  {
   "cell_type": "code",
   "execution_count": null,
   "metadata": {},
   "outputs": [],
   "source": [
    "# Create mosaics\n",
    "median_composite = create_median_mosaic(cleaned_dataset, cloud_mask)\n",
    "max_ndvi_composite = create_max_ndvi_mosaic(cleaned_dataset, cloud_mask.values)"
   ]
  },
  {
   "cell_type": "code",
   "execution_count": null,
   "metadata": {},
   "outputs": [],
   "source": [
    "# Show two mosaics ... Median and Maximum NDVI\n",
    "\n",
    "# RGB image options\n",
    "# Standard RGB = 321 = Red, Green, Blue\n",
    "# False Color = 543 = SWIR1, NIR, Red\n",
    "# False Color (Landsat Mosaic) = 742 = SWIR2, NIR, Green\n",
    "\n",
    "fig, ax = plt.subplots(1, 2, figsize=(16, 8))\n",
    "median_rgb = median_composite[['swir2', 'nir', 'green']].to_array()\n",
    "maxndvi_rgb = max_ndvi_composite[['swir2', 'nir', 'green']].to_array()\n",
    "median_rgb.plot.imshow(ax=ax[0], vmin=0, vmax=5000)\n",
    "maxndvi_rgb.plot.imshow(ax=ax[1], vmin=0, vmax=5000)\n",
    "ax[0].set_title('Median Mosaic'), ax[0].xaxis.set_visible(False), ax[0].yaxis.set_visible(False)\n",
    "ax[1].set_title('Max NDVI Mosaic'), ax[1].xaxis.set_visible(False), ax[1].yaxis.set_visible(False)\n",
    "plt.show()"
   ]
  },
  {
   "cell_type": "markdown",
   "metadata": {},
   "source": [
    "<a id=\"output_products\"></a>\n",
    "## <span id=\"export\">Create GeoTIFF Output Products [&#9652;](#top)</span>\n",
    "<p style=\"color:red\";><b>Set Export File Name:</b> Change the name of the output file, or it will be overwritten for each run. (Remove comment below marks to export.)</p>\n",
    "\n",
    "[Back to Top](#top)"
   ]
  },
  {
   "cell_type": "code",
   "execution_count": null,
   "metadata": {},
   "outputs": [],
   "source": [
    "# Remove the comment tags (#) to export a GeoTIFF output product \n",
    "# export_slice_to_geotiff(median_composite, 'geotiffs/DEMO_median_composite.tif')\n",
    "# export_slice_to_geotiff(max_ndvi_composite, 'geotiffs/DEMO_max_ndvi_composite.tif')"
   ]
  },
  {
   "cell_type": "code",
   "execution_count": null,
   "metadata": {},
   "outputs": [],
   "source": [
    "# Remove the comment tag (#) below to view the contents of the output folder\n",
    "# !ls -lah geotiffs/"
   ]
  },
  {
   "cell_type": "markdown",
   "metadata": {},
   "source": [
    "<a id=\"contributors_heritage\"></a>\n",
    "## Contributors, Heritage and References [&#9652;](#top)\n",
    "The notebooks liked here have been created by Brian Killough (NASA, CEOS Systems Engineering Office) in collaboration with a number of Open Data Cube (ODC) users from the Africian Regional Data Cube, Digital Earth Australia, and other ODC users globally.\n",
    "\n",
    "GitHub repositories referenced/forked:\n",
    "\n",
    "- https://github.com/ceos-seo/data_cube_utilities <i>A set of utilities maintained by the CEOS SEO team in support of the Notebooks being developed.</i>\n",
    "- https://github.com/ceos-seo/data_cube_notebooks <i>A set of Notebooks maintained by the CEOS SEO team.</i>\n",
    "- https://github.com/GeoscienceAustralia/dea-notebooks <i>Forked this repo to include / adapt the [Beginers_guide](https://github.com/GeoscienceAustralia/dea-notebooks/tree/develop/Beginners_guide) Notebooks. Basis for adaptation was [George Dyke's fork](https://github.com/gamedaygeorge/dea-notebooks).</i>\n",
    "\n",
    "<i><b>NOTE:</b> Digital Earth Africa has adapted this notebook to run on their platform. The code is <a href=\"https://github.com/digitalearthafrica/deafrica-sandbox-notebooks/blob/master/DCAL/DCAL_notebooks/DCAL_Custom_Mosaics.ipynb\" target=\"_blank\">available here</a>. Their implementation cleans up some of the rougher edges that remain in this notebook.</i>\n",
    "\n",
    "Last updated May 2020.\n",
    "\n",
    "[Back to top](#top)"
   ]
  },
  {
   "cell_type": "code",
   "execution_count": null,
   "metadata": {},
   "outputs": [],
   "source": []
  }
 ],
 "metadata": {
  "kernelspec": {
   "display_name": "Python 3",
   "language": "python",
   "name": "python3"
  },
  "language_info": {
   "codemirror_mode": {
    "name": "ipython",
    "version": 3
   },
   "file_extension": ".py",
   "mimetype": "text/x-python",
   "name": "python",
   "nbconvert_exporter": "python",
   "pygments_lexer": "ipython3",
   "version": "3.6.6"
  }
 },
 "nbformat": 4,
 "nbformat_minor": 2
}
