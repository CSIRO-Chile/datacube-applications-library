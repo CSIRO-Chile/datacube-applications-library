{
 "cells": [
  {
   "cell_type": "markdown",
   "metadata": {},
   "source": [
    "<a id=\"top\"></a>\n",
    "# Cloud-Filtered Custom Mosaics <img align=\"right\" style=\"padding:10px\" src=\"../images/odc_logo.png\">\n",
    "\n",
    "This notebook can be used to create custom Landsat cloud-filtered mosaics for any time period and location. The mosaics can be output as GeoTIFF products for analysis in external GIS tools. The following mosaics are possible: Median (midpoint of spectral data) and Max-NDVI (maximum vegetation respons). These mosaics are quite common and will be of value to a large number of users. \n",
    "\n",
    "Users should review the \"Cloud Statistics\" notebook for more information about the temporal and spatial sample. An understanding of the underlying data is important for creating a valid mosaic for further analyses. In many cases, cloud contamination will create poor mosaics. With a careful review of the cloud coverage over a given region and time period, it is possible to improve the mosaics and avoid false outputs. "
   ]
  },
  {
   "cell_type": "markdown",
   "metadata": {},
   "source": [
    "## <span id=\"import\">Import Dependencies and Connect to the Data Cube [&#9652;](#top)</span>"
   ]
  },
  {
   "cell_type": "code",
   "execution_count": 2,
   "metadata": {},
   "outputs": [],
   "source": [
    "# Add utils to the sys.path so that data_cube_utilities can be found. (Local folder hack.)\n",
    "import sys\n",
    "#sys.path.append('/mnt/userdata/notebooks/bkdev/utils')\n",
    "sys.path.append('/mnt/userdata/notebooks/bkdev')\n",
    "\n",
    "%matplotlib inline\n",
    "\n",
    "# Supress Warning \n",
    "import warnings\n",
    "warnings.filterwarnings('ignore')\n",
    "\n",
    "# Load Data Cube Configuration\n",
    "import datacube\n",
    "import utils.data_cube_utilities.data_access_api as dc_api  \n",
    "\n",
    "import xarray as xr  \n",
    "import numpy as np\n",
    "import matplotlib.pyplot as plt\n",
    "\n",
    "api = dc_api.DataAccessApi(config = '/home/localuser/.datacube.conf')\n",
    "dc = api.dc"
   ]
  },
  {
   "cell_type": "markdown",
   "metadata": {},
   "source": [
    "## <span id=\"plat_prod\">Choose Platforms and Products [&#9652;](#top)</span>"
   ]
  },
  {
   "cell_type": "code",
   "execution_count": null,
   "metadata": {},
   "outputs": [],
   "source": [
    "# Select a Product and Platform\n",
    "# Examples: ghana, kenya, tanzania, sierra_leone, senegal\n",
    "\n",
    "# product = \"ls7_ledaps_kenya\"\n",
    "# platform = \"LANDSAT_7\"\n",
    "\n",
    "# product = \"ls8_lasrc_kenya\"\n",
    "# platform = \"LANDSAT_8\"\n",
    "\n",
    "# product = \"ls7_ledaps_ghana\"\n",
    "# platform = \"LANDSAT_7\"\n",
    "\n",
    "product = \"ls8_lasrc_ghana\"\n",
    "platform = \"LANDSAT_8\""
   ]
  },
  {
   "cell_type": "markdown",
   "metadata": {},
   "source": [
    "## <span id=\"extents\">Get the Extents of the Cube [&#9652;](#top)</span>"
   ]
  },
  {
   "cell_type": "code",
   "execution_count": null,
   "metadata": {},
   "outputs": [],
   "source": [
    "# Print extents of the Data Cube so we know what data is available\n",
    "extents = api.get_full_dataset_extent(platform = platform, product = product)\n",
    "\n",
    "latitude_extents = (min(extents['latitude'].values),max(extents['latitude'].values))\n",
    "longitude_extents = (min(extents['longitude'].values),max(extents['longitude'].values))\n",
    "time_extents = (min(extents['time'].values),max(extents['time'].values))\n",
    "\n",
    "print(latitude_extents)\n",
    "print(longitude_extents)\n",
    "print(time_extents)"
   ]
  },
  {
   "cell_type": "markdown",
   "metadata": {},
   "source": [
    "## <span id=\"define_extents\">Define the Extents of the Analysis [&#9652;](#top)</span>"
   ]
  },
  {
   "cell_type": "code",
   "execution_count": null,
   "metadata": {},
   "outputs": [],
   "source": [
    "# Select an analysis region (Lat-Lon) within the extents listed above. \n",
    "# HINT: Keep your region small (<0.5 deg square) to avoid memory overload issues\n",
    "# Select a time period (Min-Max) within the extents listed above (Year-Month-Day)\n",
    "\n",
    "# Mombasa, Kenya\n",
    "# latitude = (-4.1, -3.9) \n",
    "# longitude = (39.5, 39.7) \n",
    "\n",
    "# Mau Forest - Western Kenya\n",
    "# latitude = (-0.13406, 0.21307)\n",
    "# longitude = (35.28322, 35.56681)\n",
    "\n",
    "# Tano-Offin Forest - Ghana\n",
    "# latitude = (6.5814, 6.8978 ) \n",
    "# longitude = (-2.2955, -1.9395) \n",
    "\n",
    "# Mining Region near Obuasi, Ghana\n",
    "latitude = (6.0985, 6.2675)\n",
    "longitude = (-2.050, -1.8629)\n",
    "\n",
    "# Time Period\n",
    "time_extents = ('2019-01-01', '2019-03-31')"
   ]
  },
  {
   "cell_type": "code",
   "execution_count": null,
   "metadata": {
    "scrolled": false
   },
   "outputs": [],
   "source": [
    "# The code below renders a map that can be used to view the region.\n",
    "from data_cube_utilities.dc_display_map import display_map\n",
    "display_map(latitude,longitude)"
   ]
  },
  {
   "cell_type": "markdown",
   "metadata": {},
   "source": [
    "## <span id=\"load_data\">Load and Clean Data from the Data Cube [&#9652;](#top)</span>"
   ]
  },
  {
   "cell_type": "code",
   "execution_count": null,
   "metadata": {},
   "outputs": [],
   "source": [
    "landsat_dataset = dc.load(latitude = latitude,\n",
    "                          longitude = longitude,\n",
    "                          platform = platform,\n",
    "                          time = time_extents,\n",
    "                          product = product,\n",
    "                          measurements = ['red', 'green', 'blue', 'nir', 'swir1', 'swir2', 'pixel_qa']) "
   ]
  },
  {
   "cell_type": "code",
   "execution_count": null,
   "metadata": {
    "scrolled": false
   },
   "outputs": [],
   "source": [
    "# Displays the first few values of each data array to check the content\n",
    "# Latitude and Longitude numbers = number of pixels in each dimension\n",
    "# Time = number of time slices in the dataset\n",
    "\n",
    "landsat_dataset"
   ]
  },
  {
   "cell_type": "code",
   "execution_count": null,
   "metadata": {},
   "outputs": [],
   "source": [
    "from utils.data_cube_utilities.clean_mask import landsat_qa_clean_mask\n",
    "cloud_mask = landsat_qa_clean_mask(landsat_dataset, platform=platform)\n",
    "cleaned_dataset = landsat_dataset.where(cloud_mask)"
   ]
  },
  {
   "cell_type": "markdown",
   "metadata": {},
   "source": [
    "## <span id=\"mosaics\">Create Mosaics and View the Results [&#9652;](#top)</span>"
   ]
  },
  {
   "cell_type": "markdown",
   "metadata": {},
   "source": [
    "> **Median Mosaic**  \n",
    ">  Masks clouds from imagery and use the median-valued cloud-free pixels in the time series.\n",
    ">  More specifically, each band (e.g. red) of each pixel is assigned its median across time.\n",
    ">  So this mosaic method generates values that are not in the dataset.\n",
    ">\n",
    "> **Max NDVI Mosaic**  \n",
    ">  Masks clouds from imagery and use the Max NDVI across time for cloud-free pixels in the time series. \n",
    ">  The maximum NDVI will represent the highest amount of green vegetation "
   ]
  },
  {
   "cell_type": "code",
   "execution_count": null,
   "metadata": {},
   "outputs": [],
   "source": [
    "from utils.data_cube_utilities.dc_mosaic import create_median_mosaic, create_max_ndvi_mosaic\n",
    "from utils.data_cube_utilities.dc_rgb import rgb"
   ]
  },
  {
   "cell_type": "code",
   "execution_count": null,
   "metadata": {},
   "outputs": [],
   "source": [
    "median_composite = create_median_mosaic(cleaned_dataset, cloud_mask)\n",
    "max_ndvi_composite = create_max_ndvi_mosaic(cleaned_dataset, cloud_mask.values)"
   ]
  },
  {
   "cell_type": "code",
   "execution_count": null,
   "metadata": {},
   "outputs": [],
   "source": [
    "# Show two mosaics ... Median and Maximum NDVI\n",
    "\n",
    "# RGB image options\n",
    "# Standard RGB = 321 = Red, Green, Blue\n",
    "# False Color = 543 = SWIR1, NIR, Red\n",
    "# False Color (Landsat Mosaic) = 742 = SWIR2, NIR, Green\n",
    "\n",
    "fig, ax = plt.subplots(1, 2, figsize=(16, 8))\n",
    "median_rgb = median_composite[['swir2', 'nir', 'green']].to_array()\n",
    "maxndvi_rgb = max_ndvi_composite[['swir2', 'nir', 'green']].to_array()\n",
    "median_rgb.plot.imshow(ax=ax[0], vmin=0, vmax=5000)\n",
    "maxndvi_rgb.plot.imshow(ax=ax[1], vmin=0, vmax=5000)\n",
    "ax[0].set_title('Median Mosaic'), ax[0].xaxis.set_visible(False), ax[0].yaxis.set_visible(False)\n",
    "ax[1].set_title('Max NDVI Mosaic'), ax[1].xaxis.set_visible(False), ax[1].yaxis.set_visible(False)\n",
    "plt.show()"
   ]
  },
  {
   "cell_type": "markdown",
   "metadata": {},
   "source": [
    "## <span id=\"export\">Create GeoTIFF Output Products [&#9652;](#top)</span>"
   ]
  },
  {
   "cell_type": "code",
   "execution_count": null,
   "metadata": {},
   "outputs": [],
   "source": [
    "from utils.data_cube_utilities.import_export import export_slice_to_geotiff"
   ]
  },
  {
   "cell_type": "code",
   "execution_count": null,
   "metadata": {},
   "outputs": [],
   "source": [
    "# Remove the comment tags (#) to export a GeoTIFF output product\n",
    "# Change the name of the output file, or it will be overwritten for each run \n",
    "\n",
    "# export_slice_to_geotiff(median_composite, 'geotiffs/DEMO_median_composite.tif')\n",
    "# export_slice_to_geotiff(max_ndvi_composite, 'geotiffs/DEMO_max_ndvi_composite.tif')"
   ]
  },
  {
   "cell_type": "code",
   "execution_count": null,
   "metadata": {},
   "outputs": [],
   "source": [
    "# Remove the comment tag (#) below to view the contents of the output folder\n",
    "# !ls -lah geotiffs/"
   ]
  }
 ],
 "metadata": {
  "kernelspec": {
   "display_name": "Python 3",
   "language": "python",
   "name": "python3"
  },
  "language_info": {
   "codemirror_mode": {
    "name": "ipython",
    "version": 3
   },
   "file_extension": ".py",
   "mimetype": "text/x-python",
   "name": "python",
   "nbconvert_exporter": "python",
   "pygments_lexer": "ipython3",
   "version": "3.6.6"
  }
 },
 "nbformat": 4,
 "nbformat_minor": 2
}
