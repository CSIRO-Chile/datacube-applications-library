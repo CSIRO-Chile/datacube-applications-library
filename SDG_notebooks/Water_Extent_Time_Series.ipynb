{
 "cells": [
  {
   "cell_type": "markdown",
   "metadata": {},
   "source": [
    "<a id=\"top\"></a>\n",
    "##  Water Extent Time Series\n",
    "This notebook produces a time series plot of water extent. In order to avoid cloud contamination issues, the data is screened using a cloud cover threshold. This threshold can be determined using the \"DCAL_Cloud_Statistics\" notebook to review a given region and time period to find nearly cloud-free scenes that will allow a complete view of a water body to calculate time series water extent. The notebook also includes a \"denoising\" filter to remove small areas of water such as small ponds or temporary small flooded areas. The intent of the notebook is to concentrate on larger water bodies with non-isolated water pixels.\n",
    "\n",
    "What does this Notebook do?\n",
    "\n",
    "* [Setup the Environment](#environment_setup)\n",
    "* [Explore the Data](#explore_data)\n",
    "* [Retrieve the Data and Perform a Water Classification Analysis](#water_classifier)\n",
    "* [Create Water Extent Image](#water_extent_image)\n",
    "* [Create a Time Series Plot of the Water](#time_series_water)\n",
    "* [Contributors, Heritage and References](#contributors_heritage)\n",
    "\n",
    "This notebook uses external functions including both a standard set of DCAL utilities (see folder [DCAL_utils](../DCAL_utils)) and a code behind file containing some specalised functions that make this page work (see file [Water_Extent_Time_Series.py](Water_Extent_Time_Series.py)).\n",
    "\n",
    "<i><p style=\"color:red\"><b>Red Text:</b> Indicates code blocks where user inputs can be provided.</p></i>"
   ]
  },
  {
   "cell_type": "markdown",
   "metadata": {},
   "source": [
    "<a id=\"environment_setup\"></a>\n",
    "## Environment Setup [&#9652;](#top)\n",
    "* **Surpress Python Warnings:** These warnings include notes about deprecitation of Python modules, etc.\n",
    "* **Import Standard Python Modules:** Import external and standard Python modules including `datacube` which is part of the ODC framework, as well as `xarray` which is a useful external module.\n",
    "* **Import DCAL Utilities:** Import a set of utilities developed by the DCAL team to help automate some of the more routine tasks in the notebooks. These utilities are located in `/DCAL_utils`.\n",
    "* **Initialize Data Cube and Data Cube API**\n",
    "\n",
    "[Back to Top](#top)"
   ]
  },
  {
   "cell_type": "code",
   "execution_count": 1,
   "metadata": {},
   "outputs": [],
   "source": [
    "# Supress Python Warnings\n",
    "import warnings\n",
    "warnings.filterwarnings('ignore')"
   ]
  },
  {
   "cell_type": "code",
   "execution_count": 2,
   "metadata": {},
   "outputs": [],
   "source": [
    "# Import Required Standard Python Modules\n",
    "import datacube\n",
    "import sys\n",
    "import matplotlib.pyplot as plt\n",
    "from matplotlib.colors import LinearSegmentedColormap\n",
    "import matplotlib.patches as mpatches\n",
    "import datetime as dt\n",
    "import numpy as np\n",
    "import xarray as xr\n",
    "import pandas as pd\n",
    "from xarray.ufuncs import isnan as xr_nan"
   ]
  },
  {
   "cell_type": "code",
   "execution_count": 3,
   "metadata": {},
   "outputs": [],
   "source": [
    "# Import notebook code behind (as cb) contaning function definitions specific to this notebook\n",
    "import Water_Extent_Time_Series as cb\n",
    "\n",
    "# Import DCAL utilities containing function definitions used generally across DCAL\n",
    "# Add DCAL_utils to the sys.path\n",
    "sys.path.append('..')\n",
    "\n",
    "# Import Data Cube API\n",
    "import DCAL_utils.data_access_api as dc_api\n",
    "\n",
    "# Import overlapping area function\n",
    "from DCAL_utils.dc_load import get_overlapping_area\n",
    "\n",
    "# Import date time to string function\n",
    "from DCAL_utils.dc_time import dt_to_str\n",
    "\n",
    "# Import display map function\n",
    "from DCAL_utils.dc_display_map import display_map\n",
    "\n",
    "# Import wofs classifier\n",
    "from DCAL_utils.dc_water_classifier import wofs_classify\n",
    "\n",
    "# Import warnings function\n",
    "from DCAL_utils.dc_utilities import ignore_warnings\n",
    "\n",
    "# Import figure ration function\n",
    "from DCAL_utils.plotter_utils import figure_ratio\n",
    "\n",
    "# Import set axes function\n",
    "from DCAL_utils.plotter_utils import xarray_set_axes_labels\n",
    "\n",
    "# Import time by bin function\n",
    "from DCAL_utils.aggregate import xr_sel_time_by_bin\n",
    "\n",
    "# Import converter function\n",
    "from DCAL_utils.plotter_utils import np_dt64_to_str\n",
    "\n",
    "# Import SPECIAL object filter function\n",
    "from DCAL_utils_special.raster_filter import lone_object_filter\n",
    "\n",
    "# Import SPEICAL binary plot function\n",
    "from DCAL_utils_special.plotter_utils import binary_class_change_plot\n",
    "\n",
    "# Import SPECIAL time series plot function\n",
    "from DCAL_utils_special.plotter_utils import xarray_time_series_plot"
   ]
  },
  {
   "cell_type": "code",
   "execution_count": 4,
   "metadata": {},
   "outputs": [],
   "source": [
    "# Initialize Data Cube (dc)\n",
    "dc = datacube.Datacube(app = 'my_app', config = '/home/localuser/.datacube.conf')\n",
    "\n",
    "# Initialize Data Cube API (dc_api)\n",
    "api = dc_api.DataAccessApi(config = '/home/localuser/.datacube.conf')"
   ]
  },
  {
   "cell_type": "markdown",
   "metadata": {},
   "source": [
    "<a id=\"explore_data\"></a>\n",
    "## Explore Data [&#9652;](#top)\n",
    "* **Select Product:** Specify the product you desire to use. Note you can see the complete list of products in this Cube in the introductory notebook (<a href=\"../Open%20Data%20Cube%20Application%20Library%20Notebooks.ipynb#products\" target=\"_blank\">click here</a>).\n",
    "* **View Dataset Spatial and Temporal Extents:** Queries the Cube and displays the min/max latitude and longitude, and the start and end date and time.\n",
    "* **Select Spatial and Temporal Extents:** Select the area of interest (AOI) and time range based on extents available.\n",
    "* **Display the Area of Interest:** Renders a map of the AOI.\n",
    "\n",
    "<p style=\"color:red\";><b>Select Products:</b> Select Data Cube products based on what is available. (<a href=\"../OpenDataCube_Application_Library_Notebooks.ipynb#products\" target=\"_blank\" style=\"color:red\">Click here to inspect available products</a>.)</p>\n",
    "\n",
    "[Back to Top](#top)"
   ]
  },
  {
   "cell_type": "code",
   "execution_count": 5,
   "metadata": {},
   "outputs": [],
   "source": [
    "# Select the platforms (satellites) and products (datacube) for this analysis\n",
    "# Product = tanzania or kenya\n",
    "\n",
    "platforms = ['LANDSAT_8']\n",
    "products = ['ls8_lasrc_tanzania']"
   ]
  },
  {
   "cell_type": "code",
   "execution_count": 6,
   "metadata": {
    "scrolled": false
   },
   "outputs": [
    {
     "name": "stdout",
     "output_type": "stream",
     "text": [
      "Available Latitude Extents: (-11.999154698723961, 0.0)\n",
      "Available Longitude Extents: (28.998649001862958, 40.99820216383851)\n",
      "Available Time Extents: [['2013-04-12' '2018-01-01']]\n"
     ]
    }
   ],
   "source": [
    "# Output the available dataset region and times\n",
    "full_lat, full_lon, min_max_dates = get_overlapping_area(api, platforms, products)\n",
    "print(\"Available Latitude Extents:\", full_lat)\n",
    "print(\"Available Longitude Extents:\", full_lon)\n",
    "print(\"Available Time Extents:\", np.vectorize(dt_to_str)(min_max_dates))"
   ]
  },
  {
   "cell_type": "code",
   "execution_count": 7,
   "metadata": {},
   "outputs": [],
   "source": [
    "# Define the time extents of the analysis (Year,Month,Day)\n",
    "time_extents = [dt.datetime(2014,1,1), dt.datetime(2020,1,19)]"
   ]
  },
  {
   "cell_type": "markdown",
   "metadata": {},
   "source": [
    "<p style=\"color:red\";>Specify the Lat-Lon bounds of the analysis region (`lat` and `lon`) and the clear pixel threshold (`clear_px_thresh`) as a fractional percent (e.g. 0.98 for 98%) which specifies the minimum percent of pixels in a time slice (an image) which are clear that will allow the time slice to be used in the analysis.</p>"
   ]
  },
  {
   "cell_type": "code",
   "execution_count": 8,
   "metadata": {},
   "outputs": [],
   "source": [
    "# Lake Salunga, Tanzania\n",
    "# lat = (-6.2936, -5.8306 ) \n",
    "# lon = (34.9943, 35.3624 ) \n",
    "# clear_px_thresh = 0.98\n",
    "\n",
    "# Mtera Reservoir, Tanzania\n",
    "lat = (-7.22, -6.80) \n",
    "lon = (35.60, 36.00) \n",
    "clear_px_thresh = 0.97\n",
    "\n",
    "# Ndakaini Dam, Kenya \n",
    "# lat =  (-0.8270, -0.8067) \n",
    "# lon =  (36.8137, 36.8529)\n",
    "# clear_px_thresh = 0.99"
   ]
  },
  {
   "cell_type": "code",
   "execution_count": 9,
   "metadata": {
    "scrolled": false
   },
   "outputs": [
    {
     "data": {
      "text/html": [
       "<div style=\"width:100%;\"><div style=\"position:relative;width:100%;height:0;padding-bottom:60%;\"><iframe src=\"data:text/html;charset=utf-8;base64,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\" style=\"position:absolute;width:100%;height:100%;left:0;top:0;border:none !important;\" allowfullscreen webkitallowfullscreen mozallowfullscreen></iframe></div></div>"
      ],
      "text/plain": [
       "<folium.folium.Map at 0x7ff0c175ccf8>"
      ]
     },
     "execution_count": 9,
     "metadata": {},
     "output_type": "execute_result"
    }
   ],
   "source": [
    "# View the analysis region on a map\n",
    "display_map(lat, lon)"
   ]
  },
  {
   "cell_type": "markdown",
   "metadata": {},
   "source": [
    "<a id=\"water_classifier\"></a>\n",
    "### Retrieve the Data and Perform a Water Classification Analysis [&#9652;](#top)\n",
    "\n",
    "[Back to Top](#top)"
   ]
  },
  {
   "cell_type": "code",
   "execution_count": 10,
   "metadata": {},
   "outputs": [],
   "source": [
    "# NOTE: added dc, lon, lat, clear_px_thresh to function arguments to support code behind as the function assumed these variables existed\n",
    "dataset, clean_mask = cb.load_for_time_range(platforms, products, time_extents, dc, lon, lat, clear_px_thresh)"
   ]
  },
  {
   "cell_type": "code",
   "execution_count": 11,
   "metadata": {},
   "outputs": [
    {
     "data": {
      "text/html": [
       "<div>\n",
       "<style scoped>\n",
       "    .dataframe tbody tr th:only-of-type {\n",
       "        vertical-align: middle;\n",
       "    }\n",
       "\n",
       "    .dataframe tbody tr th {\n",
       "        vertical-align: top;\n",
       "    }\n",
       "\n",
       "    .dataframe thead th {\n",
       "        text-align: right;\n",
       "    }\n",
       "</style>\n",
       "<table border=\"1\" class=\"dataframe\">\n",
       "  <thead>\n",
       "    <tr style=\"text-align: right;\">\n",
       "      <th></th>\n",
       "      <th>time</th>\n",
       "    </tr>\n",
       "  </thead>\n",
       "  <tbody>\n",
       "    <tr>\n",
       "      <th>0</th>\n",
       "      <td>2014-02-03 07:45:48</td>\n",
       "    </tr>\n",
       "    <tr>\n",
       "      <th>1</th>\n",
       "      <td>2014-05-10 07:44:22</td>\n",
       "    </tr>\n",
       "    <tr>\n",
       "      <th>2</th>\n",
       "      <td>2014-05-26 07:44:18</td>\n",
       "    </tr>\n",
       "    <tr>\n",
       "      <th>3</th>\n",
       "      <td>2014-06-27 07:44:29</td>\n",
       "    </tr>\n",
       "    <tr>\n",
       "      <th>4</th>\n",
       "      <td>2014-07-13 07:44:38</td>\n",
       "    </tr>\n",
       "    <tr>\n",
       "      <th>5</th>\n",
       "      <td>2014-10-01 07:44:56</td>\n",
       "    </tr>\n",
       "    <tr>\n",
       "      <th>6</th>\n",
       "      <td>2014-11-18 07:44:57</td>\n",
       "    </tr>\n",
       "    <tr>\n",
       "      <th>7</th>\n",
       "      <td>2015-03-10 07:44:25</td>\n",
       "    </tr>\n",
       "    <tr>\n",
       "      <th>8</th>\n",
       "      <td>2015-06-14 07:44:03</td>\n",
       "    </tr>\n",
       "    <tr>\n",
       "      <th>9</th>\n",
       "      <td>2015-06-30 07:44:10</td>\n",
       "    </tr>\n",
       "    <tr>\n",
       "      <th>10</th>\n",
       "      <td>2015-07-16 07:44:20</td>\n",
       "    </tr>\n",
       "    <tr>\n",
       "      <th>11</th>\n",
       "      <td>2015-08-01 07:44:24</td>\n",
       "    </tr>\n",
       "    <tr>\n",
       "      <th>12</th>\n",
       "      <td>2015-09-18 07:44:44</td>\n",
       "    </tr>\n",
       "    <tr>\n",
       "      <th>13</th>\n",
       "      <td>2015-10-20 07:44:49</td>\n",
       "    </tr>\n",
       "    <tr>\n",
       "      <th>14</th>\n",
       "      <td>2015-12-07 07:44:54</td>\n",
       "    </tr>\n",
       "    <tr>\n",
       "      <th>15</th>\n",
       "      <td>2015-12-23 07:44:55</td>\n",
       "    </tr>\n",
       "    <tr>\n",
       "      <th>16</th>\n",
       "      <td>2016-05-15 07:44:19</td>\n",
       "    </tr>\n",
       "    <tr>\n",
       "      <th>17</th>\n",
       "      <td>2016-06-16 07:44:28</td>\n",
       "    </tr>\n",
       "    <tr>\n",
       "      <th>18</th>\n",
       "      <td>2016-07-02 07:44:38</td>\n",
       "    </tr>\n",
       "    <tr>\n",
       "      <th>19</th>\n",
       "      <td>2016-07-18 07:44:44</td>\n",
       "    </tr>\n",
       "    <tr>\n",
       "      <th>20</th>\n",
       "      <td>2016-08-03 07:44:48</td>\n",
       "    </tr>\n",
       "    <tr>\n",
       "      <th>21</th>\n",
       "      <td>2016-09-04 07:44:58</td>\n",
       "    </tr>\n",
       "    <tr>\n",
       "      <th>22</th>\n",
       "      <td>2016-10-06 07:45:03</td>\n",
       "    </tr>\n",
       "    <tr>\n",
       "      <th>23</th>\n",
       "      <td>2016-10-22 07:45:07</td>\n",
       "    </tr>\n",
       "    <tr>\n",
       "      <th>24</th>\n",
       "      <td>2016-11-23 07:45:07</td>\n",
       "    </tr>\n",
       "    <tr>\n",
       "      <th>25</th>\n",
       "      <td>2016-12-25 07:45:00</td>\n",
       "    </tr>\n",
       "    <tr>\n",
       "      <th>26</th>\n",
       "      <td>2017-02-11 07:44:44</td>\n",
       "    </tr>\n",
       "    <tr>\n",
       "      <th>27</th>\n",
       "      <td>2017-06-03 07:44:24</td>\n",
       "    </tr>\n",
       "    <tr>\n",
       "      <th>28</th>\n",
       "      <td>2017-06-19 07:44:30</td>\n",
       "    </tr>\n",
       "    <tr>\n",
       "      <th>29</th>\n",
       "      <td>2017-08-06 07:44:46</td>\n",
       "    </tr>\n",
       "    <tr>\n",
       "      <th>30</th>\n",
       "      <td>2017-08-22 07:44:51</td>\n",
       "    </tr>\n",
       "    <tr>\n",
       "      <th>31</th>\n",
       "      <td>2017-09-07 07:44:53</td>\n",
       "    </tr>\n",
       "    <tr>\n",
       "      <th>32</th>\n",
       "      <td>2017-09-23 07:44:57</td>\n",
       "    </tr>\n",
       "    <tr>\n",
       "      <th>33</th>\n",
       "      <td>2017-11-10 07:45:03</td>\n",
       "    </tr>\n",
       "  </tbody>\n",
       "</table>\n",
       "</div>"
      ],
      "text/plain": [
       "                  time\n",
       "0  2014-02-03 07:45:48\n",
       "1  2014-05-10 07:44:22\n",
       "2  2014-05-26 07:44:18\n",
       "3  2014-06-27 07:44:29\n",
       "4  2014-07-13 07:44:38\n",
       "5  2014-10-01 07:44:56\n",
       "6  2014-11-18 07:44:57\n",
       "7  2015-03-10 07:44:25\n",
       "8  2015-06-14 07:44:03\n",
       "9  2015-06-30 07:44:10\n",
       "10 2015-07-16 07:44:20\n",
       "11 2015-08-01 07:44:24\n",
       "12 2015-09-18 07:44:44\n",
       "13 2015-10-20 07:44:49\n",
       "14 2015-12-07 07:44:54\n",
       "15 2015-12-23 07:44:55\n",
       "16 2016-05-15 07:44:19\n",
       "17 2016-06-16 07:44:28\n",
       "18 2016-07-02 07:44:38\n",
       "19 2016-07-18 07:44:44\n",
       "20 2016-08-03 07:44:48\n",
       "21 2016-09-04 07:44:58\n",
       "22 2016-10-06 07:45:03\n",
       "23 2016-10-22 07:45:07\n",
       "24 2016-11-23 07:45:07\n",
       "25 2016-12-25 07:45:00\n",
       "26 2017-02-11 07:44:44\n",
       "27 2017-06-03 07:44:24\n",
       "28 2017-06-19 07:44:30\n",
       "29 2017-08-06 07:44:46\n",
       "30 2017-08-22 07:44:51\n",
       "31 2017-09-07 07:44:53\n",
       "32 2017-09-23 07:44:57\n",
       "33 2017-11-10 07:45:03"
      ]
     },
     "execution_count": 11,
     "metadata": {},
     "output_type": "execute_result"
    }
   ],
   "source": [
    "pd.DataFrame({'time': dataset.time.values})"
   ]
  },
  {
   "cell_type": "code",
   "execution_count": 12,
   "metadata": {},
   "outputs": [],
   "source": [
    "# Denoising Filter\n",
    "\n",
    "# This code is used to filter the water detection results to remove small areas of \n",
    "# water such as small ponds or temporary small flooded areas. The intent of the notebook \n",
    "# is to concentrate on larger water bodies with non-isolated water pixels. \n",
    "\n",
    "# Select whether to denoise the data (True) or not denoise (False)\n",
    "\n",
    "denoise = True\n",
    "\n",
    "# Select the Denoising Parameters\n",
    "\n",
    "# min_size > Minimum size of connected pixels that will not be filtered (minimum=2). \n",
    "# So, a value of 20 means a water body must have a minimum dimension of 20*30m = 600 meters.\n",
    "\n",
    "# kernal_size > Diameter of the modal kernal (minimum=3). \n",
    "# Larger values will run slower as it calculates the mode of the neighborhood for each pixel inside this diameter.\n",
    "\n",
    "# connectivity > Maximum distance between any two pixels. A value of 1 allows only contiguous regions of pixels. \n",
    "\n",
    "# max_num_filter_runs > Filter is run until the output stops changing or this number of runs has been performed. \n",
    "\n",
    "std_denoise_params = dict(min_size=200, kernel_size=19, connectivity=5)\n",
    "max_num_filter_runs = 4"
   ]
  },
  {
   "cell_type": "code",
   "execution_count": 13,
   "metadata": {},
   "outputs": [],
   "source": [
    "# Get WOFS classifications.\n",
    "water_da = ignore_warnings(wofs_classify, dataset).wofs\n",
    "water_da = water_da.where((water_da!=-9999) & clean_mask)"
   ]
  },
  {
   "cell_type": "code",
   "execution_count": 14,
   "metadata": {
    "scrolled": false
   },
   "outputs": [
    {
     "name": "stdout",
     "output_type": "stream",
     "text": [
      "CPU times: user 2min 3s, sys: 648 ms, total: 2min 4s\n",
      "Wall time: 2min 4s\n"
     ]
    }
   ],
   "source": [
    "%%time\n",
    "\n",
    "# Denoise the classifications.\n",
    "if denoise:\n",
    "    # Encode NaN as -1 for `lone_object_filter()`.\n",
    "    water_da = water_da.where(~xr_nan(water_da), -1)\n",
    "    for time in water_da.time:\n",
    "        water_slice_prev = water_da.sel(time=time).values\n",
    "        water_slice_new = lone_object_filter(water_slice_prev, **std_denoise_params)\n",
    "        # While the filter output is still changing, keep rerunning it.\n",
    "        filter_run_count = 0\n",
    "        while (water_slice_new != water_slice_prev).any() and filter_run_count < max_num_filter_runs:\n",
    "            water_slice_prev = water_slice_new\n",
    "            water_slice_new = lone_object_filter(water_slice_prev, **std_denoise_params)\n",
    "            filter_run_count += 1\n",
    "        water_da.sel(time=time).values[:] = water_slice_new\n",
    "    water_da = water_da.where(water_da!=-1) # Reencode -1 as NaN.\n",
    "water_da = water_da == 1"
   ]
  },
  {
   "cell_type": "markdown",
   "metadata": {},
   "source": [
    "### <a id=\"water_extent_image\"></a>**Create Water Extent Image** [&#9652;](#top)\n",
    "\n",
    "[Back to Top](#top)"
   ]
  },
  {
   "cell_type": "code",
   "execution_count": 15,
   "metadata": {},
   "outputs": [],
   "source": [
    "# A list of 5 colors to show which pixels are never water ('never'), \n",
    "# in the maximum water extent ('max'), in the minimum water extent ('min'), \n",
    "# sometimes or always water ('some'), and which have no data ('no_data'), in that order. \n",
    "# Can be contain names of matplotlib colors (lower-case strings like 'black' or 'yellow') and \n",
    "# RGBA color arrays (a list of 4 integers in the range [0, 255]).\n",
    "colors = {'never': 'black', 'max': 'cyan', 'min': 'cyan', 'some': 'yellow', 'no_data': 'white'}"
   ]
  },
  {
   "cell_type": "code",
   "execution_count": 16,
   "metadata": {},
   "outputs": [],
   "source": [
    "import matplotlib as mpl\n",
    "\n",
    "colors = {key:([*mpl.colors.to_rgb(color), 1.] if isinstance(color,str) else color) \n",
    "          for key, color in colors.items()}\n",
    "\n",
    "water_pcts = water_da.mean(['latitude', 'longitude']).values\n",
    "water_never = water_da.max('time') == 0\n",
    "water_max_ind = np.argmax(water_pcts)\n",
    "water_max_date = water_da.time.values[water_max_ind]\n",
    "water_max = water_da.sel(time=water_max_date) == 1\n",
    "water_min_ind = np.argmin(water_pcts)\n",
    "water_min_date = water_da.time.values[water_min_ind]\n",
    "water_min = water_da.sel(time=water_min_date) == 1\n",
    "water_some = water_da.max('time')\n",
    "no_data_mask = ~clean_mask.max('time')\n",
    "class_masks = {'never':water_never, 'max':water_max, 'min':water_min, \n",
    "               'some':water_some, 'no_data':no_data_mask}\n",
    "\n",
    "labels = list(map(lambda str: str.format('Water'),\n",
    "                  ['Never {}', 'Max {}', 'Min {}', 'Sometimes {}', 'No Data']))\n",
    "\n",
    "dt64_to_date_str = lambda dt64 : pd.to_datetime(str(dt64)).strftime('%Y/%m/%d')\n",
    "water_max_date_str = dt64_to_date_str(water_max_date)\n",
    "water_min_date_str = dt64_to_date_str(water_min_date)"
   ]
  },
  {
   "cell_type": "code",
   "execution_count": 17,
   "metadata": {},
   "outputs": [
    {
     "data": {
      "image/png": "[encoded data removed]",
      "text/plain": [
       "<Figure size 1800x629.675 with 3 Axes>"
      ]
     },
     "metadata": {
      "needs_background": "light"
     },
     "output_type": "display_data"
    }
   ],
   "source": [
    "std_dpi = 150 # Standard image dpi.\n",
    "fig_width = 4 # Use this to change the size of this figure.\n",
    "num_rows, num_cols = 1, 3\n",
    "fig, ax = plt.subplots(nrows=num_rows, ncols=num_cols, \n",
    "                   figsize=figure_ratio(water_da, fixed_width=fig_width, \n",
    "                                        num_rows=num_rows, num_cols=num_cols), dpi=std_dpi)\n",
    "\n",
    "# Show the max water extents, min water extents, and the pixels which are water at any time (sometimes water)\n",
    "\n",
    "plot_titles = [f'Maximum Water Extent ({water_max_date_str})', \n",
    "               f'Minimum Water Extent ({water_min_date_str})', \n",
    "               'Sometimes Water']\n",
    "for plot_ind, class_type in enumerate(['max', 'min', 'some']):\n",
    "    color = colors[class_type]\n",
    "    class_mask, color = class_masks[class_type], colors[class_type]\n",
    "    # Create the colored image.\n",
    "    color_array = np.full((len(water_da.latitude), len(water_da.longitude), 4), 1, dtype=np.uint8)\n",
    "    color_array[class_mask.values] = color\n",
    "    color_array[no_data_mask.values] = colors['no_data']\n",
    "    color_array[~class_mask.values & ~no_data_mask.values] = colors['never']\n",
    "    color_array = color_array*255 # Scale the values to the range [0, 255].\n",
    "    ax[plot_ind].imshow(color_array)\n",
    "    ax[plot_ind].set_title(plot_titles[plot_ind])\n",
    "    \n",
    "plt.tight_layout()\n",
    "plt.show()"
   ]
  },
  {
   "cell_type": "code",
   "execution_count": 18,
   "metadata": {
    "scrolled": true
   },
   "outputs": [
    {
     "data": {
      "text/html": [
       "<div>\n",
       "<style scoped>\n",
       "    .dataframe tbody tr th:only-of-type {\n",
       "        vertical-align: middle;\n",
       "    }\n",
       "\n",
       "    .dataframe tbody tr th {\n",
       "        vertical-align: top;\n",
       "    }\n",
       "\n",
       "    .dataframe thead th {\n",
       "        text-align: right;\n",
       "    }\n",
       "</style>\n",
       "<table border=\"1\" class=\"dataframe\">\n",
       "  <thead>\n",
       "    <tr style=\"text-align: right;\">\n",
       "      <th></th>\n",
       "      <th>Date (Y/M/D)</th>\n",
       "      <th>Number</th>\n",
       "      <th>Area (km^2)</th>\n",
       "    </tr>\n",
       "  </thead>\n",
       "  <tbody>\n",
       "    <tr>\n",
       "      <th>Never Water</th>\n",
       "      <td></td>\n",
       "      <td>1626701</td>\n",
       "      <td>1474.214514</td>\n",
       "    </tr>\n",
       "    <tr>\n",
       "      <th>Max Water</th>\n",
       "      <td>2016/05/15</td>\n",
       "      <td>621546</td>\n",
       "      <td>563.282456</td>\n",
       "    </tr>\n",
       "    <tr>\n",
       "      <th>Min Water</th>\n",
       "      <td>2015/10/20</td>\n",
       "      <td>130150</td>\n",
       "      <td>117.949776</td>\n",
       "    </tr>\n",
       "    <tr>\n",
       "      <th>Sometimes Water</th>\n",
       "      <td></td>\n",
       "      <td>659623</td>\n",
       "      <td>597.790129</td>\n",
       "    </tr>\n",
       "    <tr>\n",
       "      <th>No Data</th>\n",
       "      <td></td>\n",
       "      <td>1549</td>\n",
       "      <td>1.403797</td>\n",
       "    </tr>\n",
       "  </tbody>\n",
       "</table>\n",
       "</div>"
      ],
      "text/plain": [
       "                Date (Y/M/D)   Number  Area (km^2)\n",
       "Never Water                   1626701  1474.214514\n",
       "Max Water         2016/05/15   621546   563.282456\n",
       "Min Water         2015/10/20   130150   117.949776\n",
       "Sometimes Water                659623   597.790129\n",
       "No Data                          1549     1.403797"
      ]
     },
     "execution_count": 18,
     "metadata": {},
     "output_type": "execute_result"
    }
   ],
   "source": [
    "num_table_rows = 5\n",
    "index = labels\n",
    "\n",
    "stats_table = pd.DataFrame(data=np.zeros((num_table_rows, 3)),\n",
    "                           index=index, columns=['Date (Y/M/D)', 'Number', 'Area (km^2)'])\n",
    "\n",
    "# Date\n",
    "## There are no dates for never water, sometimes water, and no_data.\n",
    "dates = np.array(['', water_max_date_str, water_min_date_str, '', ''])\n",
    "stats_table.loc[:,'Date (Y/M/D)'] = dates\n",
    "\n",
    "# Number\n",
    "class_sums = np.array([class_masks[cls].sum() for cls in ['never', 'max', 'min', 'some', 'no_data']])\n",
    "stats_table.loc[:, 'Number'] = class_sums\n",
    "stats_table\n",
    "\n",
    "# Show pixel changes and calculate area using pixel resolution\n",
    "prod_info = dc.list_products()\n",
    "deg_per_px = prod_info[prod_info['name'] == products[0]]['resolution'].values[0]\n",
    "deg_per_px = np.abs(deg_per_px)\n",
    "# Roughly 111km per degree of latitude and longitude.\n",
    "km_per_px = 111 * deg_per_px\n",
    "# Calculate the total area.\n",
    "sq_km_per_px = np.prod(km_per_px)\n",
    "stats_table.loc[:, 'Area (km^2)'] = stats_table.loc[:,'Number'] * sq_km_per_px\n",
    "stats_table"
   ]
  },
  {
   "cell_type": "markdown",
   "metadata": {},
   "source": [
    "### <a id=\"time_series_water\"></a>Create a Time Series Plot of the Water [&#9652;](#top)\n",
    "\n",
    "[Back to top](#top)"
   ]
  },
  {
   "cell_type": "code",
   "execution_count": 19,
   "metadata": {},
   "outputs": [
    {
     "data": {
      "image/png": "[encoded data removed]",
      "text/plain": [
       "<Figure size 1000x600 with 1 Axes>"
      ]
     },
     "metadata": {
      "needs_background": "light"
     },
     "output_type": "display_data"
    }
   ],
   "source": [
    "figsize = (10, 6) # The width and height of the figure, respectively.\n",
    "fig = plt.figure(figsize=figsize, dpi=100)\n",
    "\n",
    "# Show only some of the times to avoid cluttering the figure with tick labels.\n",
    "plotting_data = water_da.astype(np.uint8).to_dataset('Area (km^2)') * np.prod(km_per_px)\n",
    "water_area_da = plotting_data.sum(['latitude', 'longitude'])['Area (km^2)']\n",
    "water_area_da.plot()\n",
    "plt.ylim(0, water_area_da.max().values * 1.1)\n",
    "plt.scatter(water_area_da.time.values, water_area_da)\n",
    "plt.title(\"Water Area Over Time\")\n",
    "plt.xlabel('Year-Month')\n",
    "plt.show()"
   ]
  },
  {
   "cell_type": "markdown",
   "metadata": {},
   "source": [
    "<a id=\"contributors_heritage\"></a>\n",
    "## Contributors, Heritage and References [&#9652;](#top)\n",
    "The notebooks liked here have been created by Brian Killough (NASA, CEOS Systems Engineering Office) in collaboration with a number of Open Data Cube (ODC) users from the Africian Regional Data Cube, Digital Earth Australia, and other ODC users globally.\n",
    "\n",
    "GitHub repositories referenced/forked:\n",
    "\n",
    "- https://github.com/ceos-seo/data_cube_utilities <i>A set of utilities maintained by the CEOS SEO team in support of the Notebooks being developed.</i>\n",
    "- https://github.com/ceos-seo/data_cube_notebooks <i>A set of Notebooks maintained by the CEOS SEO team.</i>\n",
    "- https://github.com/GeoscienceAustralia/dea-notebooks <i>Forked this repo to include / adapt the [Beginers_guide](https://github.com/GeoscienceAustralia/dea-notebooks/tree/develop/Beginners_guide) Notebooks. Basis for adaptation was [George Dyke's fork](https://github.com/gamedaygeorge/dea-notebooks).</i>\n",
    "\n",
    "Last updated June 2020.\n",
    "\n",
    "[Back to top](#top)"
   ]
  },
  {
   "cell_type": "code",
   "execution_count": null,
   "metadata": {},
   "outputs": [],
   "source": []
  }
 ],
 "metadata": {
  "kernelspec": {
   "display_name": "Python 3",
   "language": "python",
   "name": "python3"
  },
  "language_info": {
   "codemirror_mode": {
    "name": "ipython",
    "version": 3
   },
   "file_extension": ".py",
   "mimetype": "text/x-python",
   "name": "python",
   "nbconvert_exporter": "python",
   "pygments_lexer": "ipython3",
   "version": "3.6.6"
  }
 },
 "nbformat": 4,
 "nbformat_minor": 2
}
